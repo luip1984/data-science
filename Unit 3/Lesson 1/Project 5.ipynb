{
 "cells": [
  {
   "cell_type": "code",
   "execution_count": 41,
   "metadata": {},
   "outputs": [],
   "source": [
    "import pandas as pd\n",
    "import numpy as np\n",
    "import statistics"
   ]
  },
  {
   "cell_type": "code",
   "execution_count": 46,
   "metadata": {},
   "outputs": [],
   "source": [
    "df = pd.DataFrame()\n",
    "ages = [14,12,11,10, 8, 7, 1]\n",
    "df['Age'] = ages"
   ]
  },
  {
   "cell_type": "code",
   "execution_count": 47,
   "metadata": {
    "scrolled": true
   },
   "outputs": [
    {
     "name": "stdout",
     "output_type": "stream",
     "text": [
      "Mean =  9.0\n",
      "Mean =  9.0\n",
      "Mean =  9\n",
      "Median =  10.0\n",
      "Median =  10\n",
      "Median =  10.0\n",
      "Mode =  1\n"
     ]
    },
    {
     "ename": "StatisticsError",
     "evalue": "no unique mode; found 7 equally common values",
     "output_type": "error",
     "traceback": [
      "\u001b[1;31m---------------------------------------------------------------------------\u001b[0m",
      "\u001b[1;31mStatisticsError\u001b[0m                           Traceback (most recent call last)",
      "\u001b[1;32m<ipython-input-47-e7608a3e5717>\u001b[0m in \u001b[0;36m<module>\u001b[1;34m\u001b[0m\n\u001b[0;32m      8\u001b[0m \u001b[1;33m\u001b[0m\u001b[0m\n\u001b[0;32m      9\u001b[0m \u001b[1;31m#statistics package can only eturn one mode if more than one element occurs it will error out\u001b[0m\u001b[1;33m\u001b[0m\u001b[1;33m\u001b[0m\u001b[1;33m\u001b[0m\u001b[0m\n\u001b[1;32m---> 10\u001b[1;33m \u001b[0mprint\u001b[0m\u001b[1;33m(\u001b[0m\u001b[1;34m'Mode = '\u001b[0m\u001b[1;33m,\u001b[0m \u001b[0mstatistics\u001b[0m\u001b[1;33m.\u001b[0m\u001b[0mmode\u001b[0m\u001b[1;33m(\u001b[0m\u001b[0mdf\u001b[0m\u001b[1;33m[\u001b[0m\u001b[1;34m'Age'\u001b[0m\u001b[1;33m]\u001b[0m\u001b[1;33m)\u001b[0m\u001b[1;33m)\u001b[0m\u001b[1;33m\u001b[0m\u001b[1;33m\u001b[0m\u001b[0m\n\u001b[0m",
      "\u001b[1;32m~\\AppData\\Local\\conda\\conda\\envs\\DataScience\\lib\\statistics.py\u001b[0m in \u001b[0;36mmode\u001b[1;34m(data)\u001b[0m\n\u001b[0;32m    504\u001b[0m     \u001b[1;32melif\u001b[0m \u001b[0mtable\u001b[0m\u001b[1;33m:\u001b[0m\u001b[1;33m\u001b[0m\u001b[1;33m\u001b[0m\u001b[0m\n\u001b[0;32m    505\u001b[0m         raise StatisticsError(\n\u001b[1;32m--> 506\u001b[1;33m                 \u001b[1;34m'no unique mode; found %d equally common values'\u001b[0m \u001b[1;33m%\u001b[0m \u001b[0mlen\u001b[0m\u001b[1;33m(\u001b[0m\u001b[0mtable\u001b[0m\u001b[1;33m)\u001b[0m\u001b[1;33m\u001b[0m\u001b[1;33m\u001b[0m\u001b[0m\n\u001b[0m\u001b[0;32m    507\u001b[0m                 )\n\u001b[0;32m    508\u001b[0m     \u001b[1;32melse\u001b[0m\u001b[1;33m:\u001b[0m\u001b[1;33m\u001b[0m\u001b[1;33m\u001b[0m\u001b[0m\n",
      "\u001b[1;31mStatisticsError\u001b[0m: no unique mode; found 7 equally common values"
     ]
    }
   ],
   "source": [
    "print('Mean = ', df.Age.mean())\n",
    "print('Mean = ', np.mean(df['Age']))\n",
    "print('Mean = ', statistics.mean(df.Age))\n",
    "print('Median = ', df.Age.median())\n",
    "print('Median = ', statistics.median(df.Age))\n",
    "print('Median = ', np.median(df['Age']))\n",
    "print('Mode = ', df.Age.mode()[0])\n",
    "\n",
    "#statistics package can only eturn one mode if more than one element occurs it will error out\n",
    "print('Mode = ', statistics.mode(df['Age']))"
   ]
  },
  {
   "cell_type": "code",
   "execution_count": 44,
   "metadata": {},
   "outputs": [
    {
     "name": "stdout",
     "output_type": "stream",
     "text": [
      "8\n"
     ]
    }
   ],
   "source": [
    "#numpy can return mode if more than one element occurs the most\n",
    "(values, counts) = np.unique(df['Age'], return_counts=True)\n",
    "idx = counts[np.argmax(counts)]\n",
    "for (index, m) in enumerate(counts):\n",
    "    if m == idx:\n",
    "        print(values[index])"
   ]
  },
  {
   "cell_type": "code",
   "execution_count": 45,
   "metadata": {},
   "outputs": [
    {
     "name": "stdout",
     "output_type": "stream",
     "text": [
      "Variance =  6.333333333333333\n",
      "Variance =  6.333333333333333\n",
      "Variance =  6.333333333333333\n"
     ]
    }
   ],
   "source": [
    "print('Variance = ', df.Age.var())\n",
    "print('Variance = ', np.var(df.Age, ddof=1))\n",
    "print('Variance = ', statistics.variance(df.Age))"
   ]
  },
  {
   "cell_type": "code",
   "execution_count": 35,
   "metadata": {
    "scrolled": true
   },
   "outputs": [
    {
     "name": "stdout",
     "output_type": "stream",
     "text": [
      "Standard Deviation =  2.516611478423583\n",
      "Standard Deviation =  2.516611478423583\n",
      "Standard Deviation =  2.516611478423583\n"
     ]
    }
   ],
   "source": [
    "print('Standard Deviation = ', df.Age.std())\n",
    "print('Standard Deviation = ', np.std(df.Age, ddof=1))\n",
    "print('Standard Deviation = ', statistics.stdev(df.Age))"
   ]
  },
  {
   "cell_type": "code",
   "execution_count": 36,
   "metadata": {},
   "outputs": [
    {
     "data": {
      "text/plain": [
       "2.6457513110645907"
      ]
     },
     "execution_count": 36,
     "metadata": {},
     "output_type": "execute_result"
    }
   ],
   "source": [
    "np.sqrt(len(df['Age']))"
   ]
  },
  {
   "cell_type": "code",
   "execution_count": 37,
   "metadata": {},
   "outputs": [
    {
     "name": "stdout",
     "output_type": "stream",
     "text": [
      "Standard Error =  0.9511897312113418\n",
      "Standard Error =  0.9511897312113418\n",
      "Standard Error =  0.9511897312113418\n"
     ]
    }
   ],
   "source": [
    "print('Standard Error = ', df.Age.std() / np.sqrt(len(df['Age'])))\n",
    "print('Standard Error = ', np.std(df.Age, ddof=1) / np.sqrt(len(df['Age'])))\n",
    "print('Standard Error = ', statistics.stdev(df.Age) / np.sqrt(len(df['Age'])))"
   ]
  },
  {
   "cell_type": "markdown",
   "metadata": {},
   "source": [
    "Using these estimates, if you had to choose only one estimate of central tendency and one estimate of variance to describe the data, which would you pick and why?\n",
    "\n",
    "I would choose mean age for the child actors.  It gives me a sense of what the audience want to see in the show.\n",
    "\n",
    "Next, Cindy has a birthday. Update your estimates- what changed, and what didn't?\n",
    "Mean, variance, standard deviation and standard error changed\n",
    "Median and mode didn't change.\n",
    "\n",
    "Nobody likes Cousin Oliver. Maybe the network should have used an even younger actor. Replace Cousin Oliver with 1-year-old Jessica, then recalculate again. Does this change your choice of central tendency or variance estimation methods?\n",
    "My choice of the mean went from 9.857142857142858 to 9.0\n",
    "The mode changed from 8 to no mode at all.\n",
    "The median is not changed.\n",
    "\n",
    "On the 50th anniversary of The Brady Bunch, four different magazines asked their readers whether they were fans of the show. The answers were: TV Guide 20% fans Entertainment Weekly 23% fans Pop Culture Today 17% fans SciPhi Phanatic 5% fans\n",
    "\n",
    "Based on these numbers, what percentage of adult Americans would you estimate were Brady Bunch fans on the 50th anniversary of the show?\n",
    "I would say around 20% (average of 17%, 20% and 23%) of the adult americans were fans.  I have drop the 5% from SciPhi Phanatic because it is not a representative sample of the general population."
   ]
  }
 ],
 "metadata": {
  "kernelspec": {
   "display_name": "Python 3",
   "language": "python",
   "name": "python3"
  },
  "language_info": {
   "codemirror_mode": {
    "name": "ipython",
    "version": 3
   },
   "file_extension": ".py",
   "mimetype": "text/x-python",
   "name": "python",
   "nbconvert_exporter": "python",
   "pygments_lexer": "ipython3",
   "version": "3.7.1"
  }
 },
 "nbformat": 4,
 "nbformat_minor": 2
}
