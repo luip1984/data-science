{
 "cells": [
  {
   "cell_type": "markdown",
   "metadata": {},
   "source": [
    "What should you do?\n",
    "You should pick again, this will increase your odds from 1/3 to 1/2\n",
    "\n",
    "Write up some notes on this problem, including how you think Bayes' Rule might apply. \n",
    "p = probability of winning if you pick again\n",
    "P(p) = 1/2\n",
    "\n",
    "a = probability of winning if abstain from picking again\n",
    "P(a) = 1/3\n",
    "\n",
    "Initial pick\n",
    "P(a) = 1/3 chance of winning\n",
    "Show a losing door\n",
    "Does you door have the prize?\n",
    "Picking again wound be just one out of two chance of winning which is better than the probability of the initial pick.\n",
    "Not picking another door, doesn't change anything\n",
    "\n",
    "\n",
    "\n"
   ]
  },
  {
   "cell_type": "code",
   "execution_count": null,
   "metadata": {},
   "outputs": [],
   "source": []
  }
 ],
 "metadata": {
  "kernelspec": {
   "display_name": "Python 3",
   "language": "python",
   "name": "python3"
  },
  "language_info": {
   "codemirror_mode": {
    "name": "ipython",
    "version": 3
   },
   "file_extension": ".py",
   "mimetype": "text/x-python",
   "name": "python",
   "nbconvert_exporter": "python",
   "pygments_lexer": "ipython3",
   "version": "3.7.1"
  }
 },
 "nbformat": 4,
 "nbformat_minor": 2
}
