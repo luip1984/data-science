{
 "cells": [
  {
   "cell_type": "markdown",
   "metadata": {},
   "source": [
    "cntry: categorical\n",
    "year: ordinal\n",
    "idno: ordinal\n",
    "tvtot: ordinal\n",
    "ppltrst: ordinal\n",
    "pplfair: ordinal\n",
    "pplhlp: ordinal\n",
    "happy: ordinal\n",
    "sclmeet: ordinal\n",
    "sclmeet: ordinal\n",
    "gndr: ordinal\n",
    "agea: ratio\n",
    "partner: ordinal\n"
   ]
  }
 ],
 "metadata": {
  "kernelspec": {
   "display_name": "Python 3",
   "language": "python",
   "name": "python3"
  },
  "language_info": {
   "codemirror_mode": {
    "name": "ipython",
    "version": 3
   },
   "file_extension": ".py",
   "mimetype": "text/x-python",
   "name": "python",
   "nbconvert_exporter": "python",
   "pygments_lexer": "ipython3",
   "version": "3.7.0"
  }
 },
 "nbformat": 4,
 "nbformat_minor": 2
}
