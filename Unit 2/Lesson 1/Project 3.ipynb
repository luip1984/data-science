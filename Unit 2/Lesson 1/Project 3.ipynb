{
 "cells": [
  {
   "cell_type": "markdown",
   "metadata": {},
   "source": [
    "What is the 1994 rate of juvenile delinquency in the U.S.?\n",
    "Good: this statistic can be acquired from existing criminal statistics.\n",
    "\n",
    "What can we do to reduce juvenile delinquency in the U.S.?\n",
    "Bad: Compare what one area's new anti-juvenile delinquency laws with another area with similar demographics.  Collect the statistics and see if there is any difference.  If the new laws made any difference then those laws are what should be implemented to reduce juvenile deliquency.\n",
    "\n",
    "Does education play a role in reducing juvenile delinquents' return to crime?\n",
    "Bad: Education is not a definable term.  We should ask what is the average age juvenile deliquents start entering the criminal justice system.  Provide school and parental support at around this age group.\n",
    "\n",
    "How many customers does AT&T currently serve in Washington, DC?\n",
    "Good: this is just a count of the number of customers under AT&T\n",
    "\n",
    "What factors lead consumers to choose AT&T over other service providers?\n",
    "Bad: More work needs to be done to determine the individual factors that AT&T has over its competitors.  These individual factors should be in a survey for existing customers to see what are the top factors that are part of their decision to stay on.\n",
    "\n",
    "How can AT&T attract more customers?\n",
    "Bad: More work needs to be done to determine the individual factors that AT&T has over its competitors.  These individual factors should be in a survey for potential customers to see what are the top factors that are part of their decision to use AT&T.\n",
    "\n",
    "Why did the Challenger Shuttle explode?\n",
    "Bad: This a case of gathering forensic evidence to determine cause of crash.  NASA should build (Mean time between failure) MTBF models on all the subsystems that could cause catastrophic failures.  Develop internal processes to check and log the the usage of components and subsystems.  The question for NASA is to determine whether a component should be replaced at any given launch. \n",
    "\n",
    "Which genes are associated with increased risk of breast cancer?\n",
    "Good: This is a statistical question that can be obtained.  We need to collect dna samples of women with and without breast cancer.  Use statistical methods to determine which genes are prevalent in group versus the other group.\n",
    "\n",
    "Is it better to read to children at night or in the morning?\n",
    "Bad:  This is more of an opinion question.  We should ask if reading to your child at a certain age will lead to your child having a higher reading score on state tests.\n",
    "\n",
    "How does Google’s search algorithm work?\n",
    "Bad:  We should ask how effective is the search algorithm is by asking how often a user goes to the next page's search results.\n"
   ]
  }
 ],
 "metadata": {
  "kernelspec": {
   "display_name": "Python 3",
   "language": "python",
   "name": "python3"
  },
  "language_info": {
   "codemirror_mode": {
    "name": "ipython",
    "version": 3
   },
   "file_extension": ".py",
   "mimetype": "text/x-python",
   "name": "python",
   "nbconvert_exporter": "python",
   "pygments_lexer": "ipython3",
   "version": "3.7.1"
  }
 },
 "nbformat": 4,
 "nbformat_minor": 2
}
