{
 "cells": [
  {
   "cell_type": "markdown",
   "metadata": {},
   "source": [
    "The amount a person will spend on a given site in the next 24 months.\n",
    "Regression\n",
    "\n",
    "What color car someone is going to buy.\n",
    "Categorical\n",
    "\n",
    "How many children a family will have.\n",
    "Categorical or Regression\n",
    "\n",
    "If someone will sign up for a service.\n",
    "Categorical\n",
    "\n",
    "The number of times someone will get sick in a year.\n",
    "Categorical or Regression\n",
    "\n",
    "The probability someone will get sick in the next month.\n",
    "Regression\n",
    "\n",
    "Which medicine will work best for a given patient.\n",
    "Categorical"
   ]
  }
 ],
 "metadata": {
  "kernelspec": {
   "display_name": "Python 3",
   "language": "python",
   "name": "python3"
  },
  "language_info": {
   "codemirror_mode": {
    "name": "ipython",
    "version": 3
   },
   "file_extension": ".py",
   "mimetype": "text/x-python",
   "name": "python",
   "nbconvert_exporter": "python",
   "pygments_lexer": "ipython3",
   "version": "3.7.0"
  }
 },
 "nbformat": 4,
 "nbformat_minor": 2
}
