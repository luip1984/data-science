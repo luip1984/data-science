{
 "cells": [
  {
   "cell_type": "markdown",
   "metadata": {},
   "source": [
    "We are using a data set from a bakery store. \n",
    "It has details on the transactions for two years.\n",
    "I will look through the data to form a meaningful hypothesis.\n",
    "\n",
    "The two years of data will provide me a simulated view of the bakery after applying the hypothesis.\n",
    "I would use one year as control and the other year as the experiment and compare the results."
   ]
  },
  {
   "cell_type": "code",
   "execution_count": 1,
   "metadata": {},
   "outputs": [],
   "source": [
    "import numpy as np;\n",
    "import pandas as pd;\n",
    "import matplotlib.pyplot as plt\n",
    "%matplotlib inline\n",
    "import seaborn as sns\n",
    "from scipy import stats"
   ]
  },
  {
   "cell_type": "code",
   "execution_count": 2,
   "metadata": {},
   "outputs": [
    {
     "data": {
      "text/plain": [
       "array(['Bread', 'Scandinavian', 'Hot chocolate', 'Jam', 'Cookies',\n",
       "       'Muffin', 'Coffee', 'Pastry', 'Medialuna', 'Tea', 'NONE',\n",
       "       'Tartine', 'Basket', 'Mineral water', 'Farm House', 'Fudge',\n",
       "       'Juice', \"Ella's Kitchen Pouches\", 'Victorian Sponge', 'Frittata',\n",
       "       'Hearty & Seasonal', 'Soup', 'Pick and Mix Bowls', 'Smoothies',\n",
       "       'Cake', 'Mighty Protein', 'Chicken sand', 'Coke',\n",
       "       'My-5 Fruit Shoot', 'Focaccia', 'Sandwich', 'Alfajores', 'Eggs',\n",
       "       'Brownie', 'Dulce de Leche', 'Honey', 'The BART', 'Granola',\n",
       "       'Fairy Doors', 'Empanadas', 'Keeping It Local', 'Art Tray',\n",
       "       'Bowl Nic Pitt', 'Bread Pudding', 'Adjustment', 'Truffles',\n",
       "       'Chimichurri Oil', 'Bacon', 'Spread', 'Kids biscuit', 'Siblings',\n",
       "       'Caramel bites', 'Jammie Dodgers', 'Tiffin', 'Olum & polenta',\n",
       "       'Polenta', 'The Nomad', 'Hack the stack', 'Bakewell',\n",
       "       'Lemon and coconut', 'Toast', 'Scone', 'Crepes', 'Vegan mincepie',\n",
       "       'Bare Popcorn', 'Muesli', 'Crisps', 'Pintxos', 'Gingerbread syrup',\n",
       "       'Panatone', 'Brioche and salami', 'Afternoon with the baker',\n",
       "       'Salad', 'Chicken Stew', 'Spanish Brunch',\n",
       "       'Raspberry shortbread sandwich', 'Extra Salami or Feta',\n",
       "       'Duck egg', 'Baguette', \"Valentine's card\", 'Tshirt',\n",
       "       'Vegan Feast', 'Postcard', 'Nomad bag', 'Chocolates',\n",
       "       'Coffee granules ', 'Drinking chocolate spoons ',\n",
       "       'Christmas common', 'Argentina Night', 'Half slice Monster ',\n",
       "       'Gift voucher', 'Cherry me Dried fruit', 'Mortimer', 'Raw bars',\n",
       "       'Tacos/Fajita'], dtype=object)"
      ]
     },
     "execution_count": 2,
     "metadata": {},
     "output_type": "execute_result"
    }
   ],
   "source": [
    "df = pd.read_csv('breadbasket_dms.csv')\n",
    "\n",
    "#look at unique items\n",
    "df.Item.unique()"
   ]
  },
  {
   "cell_type": "markdown",
   "metadata": {},
   "source": [
    "I remove items that don't look like food."
   ]
  },
  {
   "cell_type": "code",
   "execution_count": 3,
   "metadata": {},
   "outputs": [
    {
     "data": {
      "text/plain": [
       "array(['Bread', 'Scandinavian', 'Hot chocolate', 'Jam', 'Cookies',\n",
       "       'Muffin', 'Coffee', 'Pastry', 'Medialuna', 'Tea', 'Tartine',\n",
       "       'Basket', 'Mineral water', 'Farm House', 'Fudge', 'Juice',\n",
       "       \"Ella's Kitchen Pouches\", 'Victorian Sponge', 'Frittata',\n",
       "       'Hearty & Seasonal', 'Soup', 'Pick and Mix Bowls', 'Smoothies',\n",
       "       'Cake', 'Mighty Protein', 'Chicken sand', 'Coke',\n",
       "       'My-5 Fruit Shoot', 'Focaccia', 'Sandwich', 'Alfajores', 'Eggs',\n",
       "       'Brownie', 'Dulce de Leche', 'Honey', 'The BART', 'Granola',\n",
       "       'Fairy Doors', 'Empanadas', 'Art Tray', 'Bowl Nic Pitt',\n",
       "       'Bread Pudding', 'Truffles', 'Chimichurri Oil', 'Bacon', 'Spread',\n",
       "       'Kids biscuit', 'Siblings', 'Caramel bites', 'Jammie Dodgers',\n",
       "       'Tiffin', 'Olum & polenta', 'Polenta', 'The Nomad',\n",
       "       'Hack the stack', 'Bakewell', 'Lemon and coconut', 'Toast',\n",
       "       'Scone', 'Crepes', 'Vegan mincepie', 'Bare Popcorn', 'Muesli',\n",
       "       'Crisps', 'Pintxos', 'Gingerbread syrup', 'Panatone',\n",
       "       'Brioche and salami', 'Afternoon with the baker', 'Salad',\n",
       "       'Chicken Stew', 'Spanish Brunch', 'Raspberry shortbread sandwich',\n",
       "       'Extra Salami or Feta', 'Duck egg', 'Baguette', \"Valentine's card\",\n",
       "       'Tshirt', 'Vegan Feast', 'Postcard', 'Nomad bag', 'Chocolates',\n",
       "       'Coffee granules ', 'Drinking chocolate spoons ',\n",
       "       'Christmas common', 'Argentina Night', 'Half slice Monster ',\n",
       "       'Cherry me Dried fruit', 'Mortimer', 'Raw bars', 'Tacos/Fajita'],\n",
       "      dtype=object)"
      ]
     },
     "execution_count": 3,
     "metadata": {},
     "output_type": "execute_result"
    }
   ],
   "source": [
    "df= df.loc[~df['Item'].isin(['NONE','Adjustment','Gift voucher','Keeping It Local'])]\n",
    "df.Item.unique()"
   ]
  },
  {
   "cell_type": "markdown",
   "metadata": {},
   "source": [
    "Filter out food that is not on both transaction years"
   ]
  },
  {
   "cell_type": "code",
   "execution_count": 4,
   "metadata": {},
   "outputs": [
    {
     "name": "stdout",
     "output_type": "stream",
     "text": [
      "['Tartine', 'Basket', 'Victorian Sponge', 'Pick and Mix Bowls', 'Mighty Protein', 'Chicken sand', 'Dulce de Leche', 'The BART', 'Fairy Doors', 'Empanadas', 'Bowl Nic Pitt', 'Bread Pudding', 'Chimichurri Oil', 'Bacon', 'Spread', 'Kids biscuit', 'Siblings', 'Caramel bites', 'Olum & polenta', 'Polenta', 'Hack the stack', 'Lemon and coconut', 'Crepes', 'Pintxos', 'Panatone']\n",
      "['Afternoon with the baker', 'Salad', 'Chicken Stew', 'Spanish Brunch', 'Raspberry shortbread sandwich', 'Extra Salami or Feta', 'Duck egg', 'Baguette', \"Valentine's card\", 'Tshirt', 'Vegan Feast', 'Postcard', 'Nomad bag', 'Chocolates', 'Coffee granules ', 'Drinking chocolate spoons ', 'Christmas common', 'Argentina Night', 'Half slice Monster ', 'Cherry me Dried fruit', 'Mortimer', 'Raw bars', 'Tacos/Fajita']\n"
     ]
    }
   ],
   "source": [
    "year_1_data = df.loc[df['Date'] < '2017-01-01']\n",
    "year_2_data = df.loc[df['Date'] >= '2017-01-01']\n",
    "\n",
    "y1_items= (year_1_data.Item.unique())\n",
    "y2_items= (year_2_data.Item.unique())\n",
    "\n",
    "only_y1_items = []\n",
    "for item in y1_items:\n",
    "    if item not in y2_items:\n",
    "        only_y1_items.append(item)\n",
    "print(only_y1_items)\n",
    "\n",
    "only_y2_items = []\n",
    "for item in y2_items:\n",
    "    if item not in y1_items:\n",
    "        only_y2_items.append(item)\n",
    "print(only_y2_items)\n"
   ]
  },
  {
   "cell_type": "markdown",
   "metadata": {},
   "source": [
    "Remove items and test if there are still items that don't show up in both years"
   ]
  },
  {
   "cell_type": "code",
   "execution_count": 5,
   "metadata": {},
   "outputs": [
    {
     "name": "stdout",
     "output_type": "stream",
     "text": [
      "[]\n",
      "[]\n"
     ]
    }
   ],
   "source": [
    "df = df.loc[~df['Item'].isin(['Tartine','Basket', 'Victorian Sponge', 'Pick and Mix Bowls', 'Mighty Protein', 'Chicken sand', 'Dulce de Leche', 'The BART', 'Fairy Doors', 'Empanadas', 'Bowl Nic Pitt', 'Bread Pudding', 'Chimichurri Oil', 'Bacon', 'Spread', 'Kids biscuit', 'Siblings', 'Caramel bites', 'Olum & polenta', 'Polenta', 'Hack the stack', 'Lemon and coconut', 'Crepes', 'Pintxos', 'Panatone','Afternoon with the baker', 'Salad', 'Chicken Stew', 'Spanish Brunch', 'Raspberry shortbread sandwich', 'Extra Salami or Feta', 'Duck egg', 'Baguette', \"Valentine's card\", 'Tshirt', 'Vegan Feast', 'Postcard', 'Nomad bag', 'Chocolates', 'Coffee granules ', 'Drinking chocolate spoons ', 'Christmas common', 'Argentina Night', 'Half slice Monster ', 'Cherry me Dried fruit', 'Mortimer', 'Raw bars', 'Tacos/Fajita'])]\n",
    "year_1_data = df.loc[df['Date'] < '2017-01-01']\n",
    "year_2_data = df.loc[df['Date'] >= '2017-01-01']\n",
    "\n",
    "y1_items= (year_1_data.Item.unique())\n",
    "y2_items= (year_2_data.Item.unique())\n",
    "\n",
    "only_y1_items = []\n",
    "for item in y1_items:\n",
    "    if item not in y2_items:\n",
    "        only_y1_items.append(item)\n",
    "print(only_y1_items)\n",
    "\n",
    "only_y2_items = []\n",
    "for item in y2_items:\n",
    "    if item not in y1_items:\n",
    "        only_y2_items.append(item)\n",
    "print(only_y2_items)"
   ]
  },
  {
   "cell_type": "markdown",
   "metadata": {},
   "source": [
    "Get a counts of items sold in year 1"
   ]
  },
  {
   "cell_type": "code",
   "execution_count": 6,
   "metadata": {},
   "outputs": [],
   "source": [
    "year1_dict = dict(year_1_data['Item'].value_counts())\n",
    "year2_foods = dict(year_2_data['Item'].value_counts())"
   ]
  },
  {
   "cell_type": "markdown",
   "metadata": {},
   "source": [
    "Analysis that highlights your experimental hypothesis.\n",
    "From the exploratory work before, I have built a modified version of the data to perform comparative analysis across transaction years.\n",
    "\n",
    "The problem:\n",
    "We want to increase profitability of the bakery by utilizing prior transaction data."
   ]
  },
  {
   "cell_type": "markdown",
   "metadata": {},
   "source": [
    "A rollout plan showing how you would implement and rollout the experiment\n",
    "\n",
    "The potential solution:\n",
    "The transaction data has item information that can be used to determine which items are not in high demand and thus could be removed to make room to sell more in demand items.\n",
    "\n",
    "I got a list of foods that are ordered and looking at the data I cut it off at 30 of the same item type for the year.\n",
    "\n",
    "Not in demand items are determined by count of the particular item for a given year.\n",
    "transactions for 2016 is the control year (Year 1)\n",
    "the 2017 transactions will be the test year (Year 2)\n",
    "\n",
    "If the counts for year 2 for the same set of items are higher overall then I can conclude that removing not in demand items increase sales of more in common items.\n"
   ]
  },
  {
   "cell_type": "markdown",
   "metadata": {},
   "source": [
    "An evaluation plan showing what constitutes success in this experiment\n",
    "\n",
    "I would the the stats.ttest_ind between year 1 and year 2 values to determine correlation\n",
    "A line chart and column chart would help visualize the differences."
   ]
  },
  {
   "cell_type": "markdown",
   "metadata": {},
   "source": [
    "Get a list of foods that are ordered the most.  We cut off at 30 items for the period before."
   ]
  },
  {
   "cell_type": "code",
   "execution_count": 7,
   "metadata": {},
   "outputs": [
    {
     "data": {
      "text/plain": [
       "{'Coffee': 2214,\n",
       " 'Bread': 1390,\n",
       " 'Tea': 577,\n",
       " 'Pastry': 366,\n",
       " 'Medialuna': 362,\n",
       " 'Cake': 263,\n",
       " 'Hot chocolate': 261,\n",
       " 'Sandwich': 235,\n",
       " 'Farm House': 200,\n",
       " 'Muffin': 198,\n",
       " 'Brownie': 191,\n",
       " 'Alfajores': 186,\n",
       " 'Cookies': 166,\n",
       " 'Scandinavian': 155,\n",
       " 'Fudge': 121,\n",
       " 'Juice': 110,\n",
       " 'Jam': 108,\n",
       " 'Soup': 106,\n",
       " 'Hearty & Seasonal': 93,\n",
       " 'Scone': 69,\n",
       " 'Mineral water': 66,\n",
       " 'Toast': 65,\n",
       " 'Coke': 64,\n",
       " 'Truffles': 56,\n",
       " 'Frittata': 49,\n",
       " 'Focaccia': 40,\n",
       " 'Vegan mincepie': 33}"
      ]
     },
     "execution_count": 7,
     "metadata": {},
     "output_type": "execute_result"
    }
   ],
   "source": [
    "year1_foods = { k: v for k, v in year1_dict.items() if v >= 30 }\n",
    "year1_foods"
   ]
  },
  {
   "cell_type": "code",
   "execution_count": 8,
   "metadata": {},
   "outputs": [
    {
     "name": "stdout",
     "output_type": "stream",
     "text": [
      "['Alfajores', 'Bread', 'Brownie', 'Cake', 'Coffee', 'Coke', 'Cookies', 'Farm House', 'Focaccia', 'Frittata', 'Fudge', 'Hearty & Seasonal', 'Hot chocolate', 'Jam', 'Juice', 'Medialuna', 'Mineral water', 'Muffin', 'Pastry', 'Sandwich', 'Scandinavian', 'Scone', 'Soup', 'Tea', 'Toast', 'Truffles', 'Vegan mincepie']\n"
     ]
    }
   ],
   "source": [
    "foodNames = sorted(list(year1_foods.keys()))\n",
    "print(foodNames)"
   ]
  },
  {
   "cell_type": "code",
   "execution_count": 9,
   "metadata": {},
   "outputs": [],
   "source": [
    "year1_values = []\n",
    "year2_values = []\n",
    "for foodName in foodNames:\n",
    "    year1_values.append(year1_foods[foodName])\n",
    "    year2_values.append(year2_foods[foodName])\n",
    "    #print(foodName, year2_foods[foodName])\n",
    "    #print(foodName, year1_foods[foodName])"
   ]
  },
  {
   "cell_type": "code",
   "execution_count": 10,
   "metadata": {},
   "outputs": [
    {
     "data": {
      "text/plain": [
       "Ttest_indResult(statistic=0.7815781216054207, pvalue=0.4380067583170587)"
      ]
     },
     "execution_count": 10,
     "metadata": {},
     "output_type": "execute_result"
    }
   ],
   "source": [
    "stats.ttest_ind(year2_values, year1_values)"
   ]
  },
  {
   "cell_type": "code",
   "execution_count": 11,
   "metadata": {},
   "outputs": [],
   "source": [
    "data = pd.DataFrame({'Food Name': foodNames,\n",
    "                     'Year 1': year1_values,\n",
    "                     'Year 2': year2_values\n",
    "                    })"
   ]
  },
  {
   "cell_type": "code",
   "execution_count": 12,
   "metadata": {},
   "outputs": [
    {
     "data": {
      "image/png": "[encoded data removed]",
      "text/plain": [
       "<Figure size 432x288 with 1 Axes>"
      ]
     },
     "metadata": {
      "needs_background": "light"
     },
     "output_type": "display_data"
    }
   ],
   "source": [
    "fig = data[['Food Name', 'Year 1']].plot()\n",
    "data[['Food Name', 'Year 2']].plot(ax=fig)\n",
    "\n",
    "plt.legend(['Control - Year 1', 'Test - Year 2'])\n",
    "plt.setp(fig.get_xticklabels(), visible=False)\n",
    "plt.title('Comparing item counts')\n",
    "plt.show()"
   ]
  },
  {
   "cell_type": "markdown",
   "metadata": {},
   "source": [
    "Removing the least commonly purchased foods have no effect on purchases of most commonly purchased items."
   ]
  },
  {
   "cell_type": "code",
   "execution_count": 13,
   "metadata": {},
   "outputs": [],
   "source": [
    "size = len(foodNames)\n",
    "foodNames = foodNames * 2\n",
    "counts = []\n",
    "counts.extend(year1_values)\n",
    "counts.extend(year2_values)\n",
    "value_type = []\n",
    "value_type.extend(['Control'] * size)\n",
    "value_type.extend(['Test'] * size)"
   ]
  },
  {
   "cell_type": "code",
   "execution_count": 14,
   "metadata": {},
   "outputs": [],
   "source": [
    "bardata = pd.DataFrame({'Food Name': foodNames,\n",
    "                     'total': counts,\n",
    "                     'value_type': value_type\n",
    "                    })"
   ]
  },
  {
   "cell_type": "code",
   "execution_count": 15,
   "metadata": {},
   "outputs": [
    {
     "data": {
      "text/plain": [
       "<seaborn.axisgrid.FacetGrid at 0x1b13acbe6d8>"
      ]
     },
     "execution_count": 15,
     "metadata": {},
     "output_type": "execute_result"
    },
    {
     "data": {
      "image/png": "[encoded data removed]",
      "text/plain": [
       "<Figure size 795.35x360 with 1 Axes>"
      ]
     },
     "metadata": {},
     "output_type": "display_data"
    }
   ],
   "source": [
    "sns.set(style=\"darkgrid\")\n",
    "\n",
    "g = sns.catplot(x=\"Food Name\", y=\"total\", hue=\"value_type\", data=bardata, aspect=2,height=5, kind=\"bar\", palette=\"pastel\")\n",
    "loc, labels = plt.xticks()\n",
    "g.set_xticklabels(labels, rotation=90)"
   ]
  },
  {
   "cell_type": "code",
   "execution_count": null,
   "metadata": {},
   "outputs": [],
   "source": []
  }
 ],
 "metadata": {
  "kernelspec": {
   "display_name": "Python 3",
   "language": "python",
   "name": "python3"
  },
  "language_info": {
   "codemirror_mode": {
    "name": "ipython",
    "version": 3
   },
   "file_extension": ".py",
   "mimetype": "text/x-python",
   "name": "python",
   "nbconvert_exporter": "python",
   "pygments_lexer": "ipython3",
   "version": "3.7.1"
  }
 },
 "nbformat": 4,
 "nbformat_minor": 2
}
