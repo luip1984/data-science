{
 "cells": [
  {
   "cell_type": "code",
   "execution_count": 1,
   "metadata": {},
   "outputs": [
    {
     "name": "stdout",
     "output_type": "stream",
     "text": [
      "False\n"
     ]
    }
   ],
   "source": [
    "import pandas as pd\n",
    "\n",
    "sample_string = 'take 5'\n",
    "print(sample_string.isdigit())"
   ]
  },
  {
   "cell_type": "code",
   "execution_count": 3,
   "metadata": {},
   "outputs": [
    {
     "name": "stdout",
     "output_type": "stream",
     "text": [
      "True\n"
     ]
    }
   ],
   "source": [
    "print(sample_string[5:].isdigit())"
   ]
  },
  {
   "cell_type": "code",
   "execution_count": 4,
   "metadata": {},
   "outputs": [
    {
     "name": "stdout",
     "output_type": "stream",
     "text": [
      "True\n"
     ]
    }
   ],
   "source": [
    "print(sample_string[:4].isalpha())"
   ]
  },
  {
   "cell_type": "code",
   "execution_count": 7,
   "metadata": {},
   "outputs": [
    {
     "name": "stdout",
     "output_type": "stream",
     "text": [
      "True\n"
     ]
    }
   ],
   "source": [
    "string2 = 't45'\n",
    "print(string2.isalnum())"
   ]
  },
  {
   "cell_type": "code",
   "execution_count": 8,
   "metadata": {},
   "outputs": [
    {
     "name": "stdout",
     "output_type": "stream",
     "text": [
      "False\n"
     ]
    }
   ],
   "source": [
    "string3 = 't 45'\n",
    "print(string3.isalnum())"
   ]
  },
  {
   "cell_type": "code",
   "execution_count": 12,
   "metadata": {},
   "outputs": [
    {
     "name": "stdout",
     "output_type": "stream",
     "text": [
      "0     True\n",
      "1     True\n",
      "2    False\n",
      "3     True\n",
      "4    False\n",
      "dtype: bool\n",
      "0     True\n",
      "1     True\n",
      "2    False\n",
      "3     True\n",
      "4    False\n",
      "dtype: bool\n"
     ]
    }
   ],
   "source": [
    "money = pd.Series([400, 111, '$20', 57, 'Lots'])\n",
    "#print(money.isdigit())\n",
    "def is_a_string(x):\n",
    "    # First make sure we're operating on a string, then use our string method.\n",
    "    return str(x).isdigit()\n",
    "\n",
    "print(money.apply(is_a_string))\n",
    "print(money.apply(lambda x: str(x).isdigit()))"
   ]
  },
  {
   "cell_type": "code",
   "execution_count": 13,
   "metadata": {},
   "outputs": [
    {
     "name": "stdout",
     "output_type": "stream",
     "text": [
      "Filtering the whole series:\n",
      "[400, 111, 57]\n",
      "\n",
      "Applying filter() to each value in the series:\n",
      "0    400\n",
      "1    111\n",
      "2     20\n",
      "3     57\n",
      "4       \n",
      "dtype: object\n"
     ]
    }
   ],
   "source": [
    "print('Filtering the whole series:')\n",
    "print(list(filter(lambda x: str(x).isdigit(), money)))\n",
    "\n",
    "print('\\nApplying filter() to each value in the series:')\n",
    "print(money.apply(lambda x: ''.join(list(filter(str.isdigit, str(x))))))"
   ]
  },
  {
   "cell_type": "code",
   "execution_count": 22,
   "metadata": {},
   "outputs": [
    {
     "name": "stdout",
     "output_type": "stream",
     "text": [
      "['400', '111', '57']\n"
     ]
    },
    {
     "data": {
      "text/plain": [
       "0    400\n",
       "1    111\n",
       "2     20\n",
       "3     57\n",
       "4       \n",
       "dtype: object"
      ]
     },
     "execution_count": 22,
     "metadata": {},
     "output_type": "execute_result"
    }
   ],
   "source": [
    "filter(str.isdigit, money)\n",
    "l = list(filter(str.isdigit, money.apply(str)))\n",
    "\n",
    "print(l)\n",
    "\n",
    "money.apply(lambda x: ''.join(list(filter(str.isdigit, str(x)))))"
   ]
  },
  {
   "cell_type": "code",
   "execution_count": 23,
   "metadata": {},
   "outputs": [
    {
     "name": "stdout",
     "output_type": "stream",
     "text": [
      "0     MollyMalone\n",
      "1    JeffreyJones\n",
      "2      DeadParrot\n",
      "Name: 0, dtype: object \n",
      "\n",
      "0     molmal@gmail.com\n",
      "1    jefjo@hotmail.com\n",
      "2     fjords@gmail.com\n",
      "Name: 1, dtype: object\n"
     ]
    }
   ],
   "source": [
    "words = pd.Series([\n",
    "    'MollyMalone$molmal@gmail.com',\n",
    "    'JeffreyJones$jefjo@hotmail.com',\n",
    "    'DeadParrot$fjords@gmail.com'\n",
    "])\n",
    "\n",
    "# Split on '$'. We'll use the Pandas split method.\n",
    "word_split = words.str.split('$', expand=True)\n",
    "names = word_split[0]\n",
    "emails = word_split[1]\n",
    "print(names, '\\n')\n",
    "print(emails)"
   ]
  },
  {
   "cell_type": "code",
   "execution_count": 24,
   "metadata": {},
   "outputs": [
    {
     "name": "stdout",
     "output_type": "stream",
     "text": [
      "  0       1      2\n",
      "0      olly  alone\n",
      "1    effrey   ones\n",
      "2       ead  arrot\n"
     ]
    }
   ],
   "source": [
    "print(names.str.split('[A-Z]', expand=True))"
   ]
  },
  {
   "cell_type": "code",
   "execution_count": 25,
   "metadata": {},
   "outputs": [
    {
     "name": "stdout",
     "output_type": "stream",
     "text": [
      "0      Molly\n",
      "1    Jeffrey\n",
      "2       Dead\n",
      "Name: 0, dtype: object \n",
      "\n",
      "0    Malone\n",
      "1     Jones\n",
      "2    Parrot\n",
      "Name: 0, dtype: object\n"
     ]
    }
   ],
   "source": [
    "import re\n",
    "\n",
    "# We expect the first name to follow the first capital letter.\n",
    "firstname = names.apply(lambda x: re.findall('[A-Z][a-z]*', x)[0])\n",
    "\n",
    "# We expect the last name to follow the second capital letter.\n",
    "lastname = names.apply(lambda x: re.findall('[A-Z][a-z]*', x)[1])\n",
    "\n",
    "print(firstname, '\\n')\n",
    "print(lastname)"
   ]
  },
  {
   "cell_type": "code",
   "execution_count": 26,
   "metadata": {},
   "outputs": [
    {
     "name": "stdout",
     "output_type": "stream",
     "text": [
      "0     molmal at gmail.com\n",
      "1    jefjo at hotmail.com\n",
      "2     fjords at gmail.com\n",
      "Name: 1, dtype: object \n",
      "\n",
      "0     molmal@gmail\n",
      "1    jefjo@hotmail\n",
      "2     fjords@gmail\n",
      "Name: 1, dtype: object\n"
     ]
    }
   ],
   "source": [
    "print(emails.str.replace('@', ' at '),'\\n')\n",
    "\n",
    "print(emails.str.replace('.com', ''))"
   ]
  },
  {
   "cell_type": "code",
   "execution_count": 27,
   "metadata": {},
   "outputs": [
    {
     "name": "stdout",
     "output_type": "stream",
     "text": [
      "0     mollymalone\n",
      "1    jeffreyjones\n",
      "2      deadparrot\n",
      "Name: 0, dtype: object \n",
      "\n",
      "0     MOLLYMALONE\n",
      "1    JEFFREYJONES\n",
      "2      DEADPARROT\n",
      "Name: 0, dtype: object \n",
      "\n",
      "0     Mollymalone\n",
      "1    Jeffreyjones\n",
      "2      Deadparrot\n",
      "Name: 0, dtype: object\n"
     ]
    }
   ],
   "source": [
    "print(names.str.lower(), '\\n')\n",
    "print(names.str.upper(), '\\n')\n",
    "print(names.str.capitalize())"
   ]
  },
  {
   "cell_type": "code",
   "execution_count": 28,
   "metadata": {},
   "outputs": [
    {
     "data": {
      "text/plain": [
       "False"
      ]
     },
     "execution_count": 28,
     "metadata": {},
     "output_type": "execute_result"
    }
   ],
   "source": [
    "\"Hello, world\" == \"Hello, world \""
   ]
  },
  {
   "cell_type": "code",
   "execution_count": 29,
   "metadata": {},
   "outputs": [
    {
     "name": "stdout",
     "output_type": "stream",
     "text": [
      "   What, on earth, is going on here?      \n",
      "What, on earth, is going on here?\n"
     ]
    }
   ],
   "source": [
    "spacy = '   What, on earth, is going on here?      '\n",
    "print(spacy)\n",
    "print(spacy.strip())"
   ]
  },
  {
   "cell_type": "code",
   "execution_count": 30,
   "metadata": {},
   "outputs": [
    {
     "name": "stdout",
     "output_type": "stream",
     "text": [
      "False\n",
      "True\n"
     ]
    }
   ],
   "source": [
    "# Series of strings with annoying whitespace.\n",
    "words = pd.Series([' duck', 'duck ', ' duck ', 'goose'])\n",
    "print(words[0] == words[1])\n",
    "\n",
    "stripped = words.str.strip()\n",
    "print(stripped[0] == stripped[1])"
   ]
  },
  {
   "cell_type": "code",
   "execution_count": null,
   "metadata": {},
   "outputs": [],
   "source": []
  }
 ],
 "metadata": {
  "kernelspec": {
   "display_name": "Python 3",
   "language": "python",
   "name": "python3"
  },
  "language_info": {
   "codemirror_mode": {
    "name": "ipython",
    "version": 3
   },
   "file_extension": ".py",
   "mimetype": "text/x-python",
   "name": "python",
   "nbconvert_exporter": "python",
   "pygments_lexer": "ipython3",
   "version": "3.7.1"
  }
 },
 "nbformat": 4,
 "nbformat_minor": 2
}
