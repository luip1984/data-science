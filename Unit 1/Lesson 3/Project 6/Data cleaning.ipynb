{
 "cells": [
  {
   "cell_type": "code",
   "execution_count": 26,
   "metadata": {},
   "outputs": [],
   "source": [
    "import pandas as pd"
   ]
  },
  {
   "cell_type": "code",
   "execution_count": 27,
   "metadata": {},
   "outputs": [],
   "source": [
    "df = pd.read_csv('welcome2013.csv', encoding='latin')"
   ]
  },
  {
   "cell_type": "code",
   "execution_count": 28,
   "metadata": {},
   "outputs": [
    {
     "name": "stdout",
     "output_type": "stream",
     "text": [
      "Index(['ID', 'Publisher', 'Journal_Title', 'Article_Title', 'COST'], dtype='object')\n"
     ]
    }
   ],
   "source": [
    "df.rename(index=str, columns={\"PMID/PMCID\": \"ID\", 'Publisher': 'Publisher', \"Journal title\": \"Journal_Title\", 'Article title': 'Article_Title','COST (£) charged to Wellcome (inc VAT when charged)': 'COST'}, inplace=True)\n",
    "print(df.columns);\n"
   ]
  },
  {
   "cell_type": "code",
   "execution_count": 29,
   "metadata": {},
   "outputs": [
    {
     "name": "stdout",
     "output_type": "stream",
     "text": [
      "0                                    NaN\n",
      "1                             PMC3679557\n",
      "2                  23043264  PMC3506128 \n",
      "3                    23438330 PMC3646402\n",
      "4                   23438216 PMC3601604 \n",
      "5                             PMC3579457\n",
      "6                             PMC3709265\n",
      "7                   23057412 PMC3495574 \n",
      "8                      PMCID: PMC3780468\n",
      "9                      PMCID: PMC3621575\n",
      "10                     PMCID: PMC3739413\n",
      "11                     PMCID: PMC3530961\n",
      "12                     PMCID: PMC3624797\n",
      "13                            PMC3413243\n",
      "14                            PMC3694353\n",
      "15                            PMC3572711\n",
      "16                              22610094\n",
      "17                     PMCID: PMC3586974\n",
      "18          23455506  PMCID: PMC3607399 \n",
      "19            PMID: 24015914 PMC3833349 \n",
      "20                         : PMC3805332 \n",
      "21                                   NaN\n",
      "22              PMCID:\\n    PMC3656742\\n\n",
      "23                        PMCID: 3584654\n",
      "24                   22971149 PMC3466778\n",
      "25                              23072351\n",
      "26                            PMC3477822\n",
      "27                            PMC3530960\n",
      "28                  23458425 PMC3630740 \n",
      "29                        PMID: 20146481\n",
      "                      ...               \n",
      "2097                             3575693\n",
      "2098          PMID: 22188548 PMC3492912 \n",
      "2099          PMID: 22764734 PMC3798095 \n",
      "2100                      PMID: 23703895\n",
      "2101                   PMCID: PMC3664106\n",
      "2102                      PMID: 23649934\n",
      "2103                          PMC2955965\n",
      "2104          PMID: 19948006 PMC3551259 \n",
      "2105                      PMID: 23305527\n",
      "2106                   PMCID: PMC3600532\n",
      "2107                          PMC3440570\n",
      "2108                23670821 PMC3738939 \n",
      "2109                            23640856\n",
      "2110                      PMID: 23918316\n",
      "2111                   PMCID: PMC3728731\n",
      "2112         23495205685.88 PMC3743159  \n",
      "2113           PMID:22997008 PMC3569869 \n",
      "2114                             3708104\n",
      "2115                          PMC3713766\n",
      "2116                          PMC3819359\n",
      "2117                         PMC3773237 \n",
      "2118                         PMC3815011 \n",
      "2119                          PMC3805356\n",
      "2120                               Epub \n",
      "2121                          PMC3707567\n",
      "2122                             2901593\n",
      "2123                             3748854\n",
      "2124                             3785148\n",
      "2125            PMCID:\\n    PMC3647051\\n\n",
      "2126    PMID: 23846567  (Epub July 2013)\n",
      "Name: ID, Length: 2127, dtype: object\n"
     ]
    }
   ],
   "source": [
    "print(df[\"ID\"])"
   ]
  },
  {
   "cell_type": "code",
   "execution_count": null,
   "metadata": {},
   "outputs": [],
   "source": []
  },
  {
   "cell_type": "code",
   "execution_count": null,
   "metadata": {},
   "outputs": [],
   "source": []
  },
  {
   "cell_type": "code",
   "execution_count": null,
   "metadata": {},
   "outputs": [],
   "source": []
  }
 ],
 "metadata": {
  "kernelspec": {
   "display_name": "Python 3",
   "language": "python",
   "name": "python3"
  },
  "language_info": {
   "codemirror_mode": {
    "name": "ipython",
    "version": 3
   },
   "file_extension": ".py",
   "mimetype": "text/x-python",
   "name": "python",
   "nbconvert_exporter": "python",
   "pygments_lexer": "ipython3",
   "version": "3.7.1"
  }
 },
 "nbformat": 4,
 "nbformat_minor": 2
}
