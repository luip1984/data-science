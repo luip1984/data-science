{
 "cells": [
  {
   "cell_type": "markdown",
   "metadata": {},
   "source": [
    "A company with work sites in five different countries has sent you data on employee satisfaction rates for workers in Human Resources and workers in Information Technology. Most HR workers are concentrated in three of the countries, while IT workers are equally distributed across worksites. The company requests a report on satisfaction for each job type. You calculate average job satisfaction for HR and for IT and present the report."
   ]
  },
  {
   "cell_type": "markdown",
   "metadata": {},
   "source": [
    "Develop a survey to gauge employee satisfaction in different work locations.\n",
    "The survey will ask participants the same questions that rates various aspect of the company.\n",
    "Participants have a comment section to capture key concerns in their jobs."
   ]
  },
  {
   "cell_type": "markdown",
   "metadata": {},
   "source": [
    "The multiple choice part of the survey results can be tabulated to reveal satisfaction rating on what issues the company knows about.  The comment area is a free form text information that needs to be interpreted and grouped by similar topics.  Management needs to take into account all parts of the survey but will most likely focus on the top most concerns that can be implemented quickly."
   ]
  },
  {
   "cell_type": "markdown",
   "metadata": {},
   "source": [
    "After a few months after implementation, another survey should be done to see if changes made any improvements.\n",
    "\n",
    "By improvements, we should see the areas fixed by managment getting higher satisfaction ratings."
   ]
  }
 ],
 "metadata": {
  "kernelspec": {
   "display_name": "Python 3",
   "language": "python",
   "name": "python3"
  },
  "language_info": {
   "codemirror_mode": {
    "name": "ipython",
    "version": 3
   },
   "file_extension": ".py",
   "mimetype": "text/x-python",
   "name": "python",
   "nbconvert_exporter": "python",
   "pygments_lexer": "ipython3",
   "version": "3.7.1"
  }
 },
 "nbformat": 4,
 "nbformat_minor": 2
}
