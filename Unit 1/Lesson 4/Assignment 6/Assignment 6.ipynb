{
 "cells": [
  {
   "cell_type": "code",
   "execution_count": 1,
   "metadata": {},
   "outputs": [],
   "source": [
    "import numpy as np\n",
    "import pandas as pd\n",
    "import matplotlib.pyplot as plt\n",
    "import seaborn as sns\n",
    "import scipy.stats as stats\n",
    "\n",
    "np.random.seed(42)\n",
    "\n",
    "data = []\n",
    "groups = []\n",
    "labels_var = []\n",
    "labels_size = []\n",
    "\n",
    "variability = [5, 20, 50]\n",
    "sizes = [10, 100, 10000]\n",
    "\n",
    "for var in variability:\n",
    "    for size in sizes:\n",
    "        data.extend(np.random.normal(20, var, size))\n",
    "        data.extend(np.random.normal(35, var, size))\n",
    "        labels_var.extend([var] * size * 2)\n",
    "        labels_size.extend([size] * size * 2)\n",
    "        groups.extend(['group1'] * size)\n",
    "        groups.extend(['group2'] * size)"
   ]
  },
  {
   "cell_type": "code",
   "execution_count": 2,
   "metadata": {},
   "outputs": [
    {
     "name": "stdout",
     "output_type": "stream",
     "text": [
      "        data  groups  variability  size\n",
      "0  22.483571  group1            5    10\n",
      "1  19.308678  group1            5    10\n",
      "2  23.238443  group1            5    10\n",
      "3  27.615149  group1            5    10\n",
      "4  18.829233  group1            5    10\n"
     ]
    }
   ],
   "source": [
    "data = pd.DataFrame({'data': data,\n",
    "                     'groups': groups,\n",
    "                     'variability': labels_var,\n",
    "                     'size': labels_size\n",
    "                    })\n",
    "print(data.head())"
   ]
  },
  {
   "cell_type": "code",
   "execution_count": 11,
   "metadata": {},
   "outputs": [],
   "source": [
    "data_test = data.set_index(['groups', 'size', 'variability'])\n",
    "\n",
    "tvalues = []\n",
    "pvalues = []\n",
    "\n",
    "for size in sizes:\n",
    "    for var in variability:\n",
    "        a = data_test['data'].xs(('group1', size, var), level=('groups', 'size', 'variability'))\n",
    "        b = data_test['data'].xs(('group2', size, var), level=('groups', 'size', 'variability'))\n",
    "        tval, pval = stats.ttest_ind(b, a, equal_var=True)\n",
    "        tvalues.append(tval)\n",
    "        pvalues.append(pval)"
   ]
  },
  {
   "cell_type": "code",
   "execution_count": 28,
   "metadata": {},
   "outputs": [
    {
     "name": "stdout",
     "output_type": "stream",
     "text": [
      "           t             p  variability  size\n",
      "0   5.326814  4.601957e-05            5    10\n",
      "1   0.572449  5.740987e-01           20    10\n",
      "2   1.426503  1.708386e-01           50    10\n",
      "3  23.489845  3.721191e-59            5   100\n",
      "4   5.531061  9.986173e-08           20   100\n",
      "5   1.545027  1.239366e-01           50   100\n"
     ]
    },
    {
     "data": {
      "image/png": "[encoded data removed]",
      "text/plain": [
       "<Figure size 432x288 with 1 Axes>"
      ]
     },
     "metadata": {
      "needs_background": "light"
     },
     "output_type": "display_data"
    },
    {
     "data": {
      "image/png": "[encoded data removed]",
      "text/plain": [
       "<Figure size 432x288 with 1 Axes>"
      ]
     },
     "metadata": {
      "needs_background": "light"
     },
     "output_type": "display_data"
    },
    {
     "data": {
      "image/png": "[encoded data removed]",
      "text/plain": [
       "<Figure size 432x288 with 1 Axes>"
      ]
     },
     "metadata": {
      "needs_background": "light"
     },
     "output_type": "display_data"
    },
    {
     "data": {
      "image/png": "[encoded data removed]",
      "text/plain": [
       "<Figure size 432x288 with 1 Axes>"
      ]
     },
     "metadata": {
      "needs_background": "light"
     },
     "output_type": "display_data"
    },
    {
     "name": "stdout",
     "output_type": "stream",
     "text": [
      "            t             p  variability   size\n",
      "0    5.326814  4.601957e-05            5     10\n",
      "1    0.572449  5.740987e-01           20     10\n",
      "2    1.426503  1.708386e-01           50     10\n",
      "3   23.489845  3.721191e-59            5    100\n",
      "4    5.531061  9.986173e-08           20    100\n",
      "5    1.545027  1.239366e-01           50    100\n",
      "6  212.593473  0.000000e+00            5  10000\n",
      "7   53.276388  0.000000e+00           20  10000\n",
      "8   21.222612  7.263830e-99           50  10000\n"
     ]
    }
   ],
   "source": [
    "tvalues_plot = pd.DataFrame({'t': tvalues,\n",
    "                            'p': pvalues,\n",
    "                            'variability': variability * 3,\n",
    "                            'size': np.repeat(sizes, 3)})\n",
    "\n",
    "print(tvalues_plot.loc[tvalues_plot['size'].isin([10, 100])])\n",
    "ax = sns.barplot(y='t', x='variability', ci=None, data=tvalues_plot[tvalues_plot['size'] == 10])\n",
    "ax.set(ylabel='t-values', title='t-values by variability')\n",
    "plt.show()\n",
    "\n",
    "ax = sns.barplot(y='t', x='variability', ci=None, data=tvalues_plot[tvalues_plot['size'].isin([10, 100])])\n",
    "ax.set(ylabel='t-values', title='t-values by variability')\n",
    "plt.show()\n",
    "\n",
    "ax = sns.barplot(y='t', x='variability', ci=None, data=tvalues_plot)\n",
    "ax.set(ylabel='t-values', title='t-values by variability')\n",
    "plt.show()\n",
    "\n",
    "ax = sns.barplot(y='t', x='size', ci=None, data=tvalues_plot, palette='Set3')\n",
    "ax.set(ylabel='t-values', title='t-values by size')\n",
    "plt.show()\n",
    "\n",
    "print(tvalues_plot)"
   ]
  },
  {
   "cell_type": "markdown",
   "metadata": {},
   "source": [
    "$\\bar{y_1}= 5$, $\\bar{y_2}= 8$, $s_1= 1$, $s_2= 3$, $N_1= 200$, $N_2= 500$"
   ]
  },
  {
   "cell_type": "code",
   "execution_count": 32,
   "metadata": {},
   "outputs": [
    {
     "name": "stdout",
     "output_type": "stream",
     "text": [
      "-19.78141420187361\n"
     ]
    }
   ],
   "source": [
    "t = (5 - 8) / np.sqrt(1/200 + 9/500)\n",
    "print(t)"
   ]
  },
  {
   "cell_type": "markdown",
   "metadata": {},
   "source": [
    "$\\bar{y_1}= 1090$, $\\bar{y_2}= 999$, $s_1= 400$, $s_2= 30$, $N_1= 900$, $N_2= 100$"
   ]
  },
  {
   "cell_type": "code",
   "execution_count": 33,
   "metadata": {},
   "outputs": [
    {
     "name": "stdout",
     "output_type": "stream",
     "text": [
      "6.658536585365854\n"
     ]
    }
   ],
   "source": [
    "t = (1090 - 999) / np.sqrt(400 * 400 / 900 + 30 * 30 / 100)\n",
    "print(t)"
   ]
  },
  {
   "cell_type": "markdown",
   "metadata": {},
   "source": [
    "$\\bar{y_1}= 45$, $\\bar{y_2}= 40$, $s_1= 45$, $s_2= 40$, $N_1= 2000$, $N_2= 2000$"
   ]
  },
  {
   "cell_type": "code",
   "execution_count": 34,
   "metadata": {},
   "outputs": [
    {
     "name": "stdout",
     "output_type": "stream",
     "text": [
      "3.7139067635410377\n"
     ]
    }
   ],
   "source": [
    "t = (45 - 40) / np.sqrt(45 * 45 / 2000 + 40 * 40 / 2000)\n",
    "print(t)"
   ]
  },
  {
   "cell_type": "code",
   "execution_count": null,
   "metadata": {},
   "outputs": [],
   "source": []
  }
 ],
 "metadata": {
  "kernelspec": {
   "display_name": "Python 3",
   "language": "python",
   "name": "python3"
  },
  "language_info": {
   "codemirror_mode": {
    "name": "ipython",
    "version": 3
   },
   "file_extension": ".py",
   "mimetype": "text/x-python",
   "name": "python",
   "nbconvert_exporter": "python",
   "pygments_lexer": "ipython3",
   "version": "3.7.1"
  }
 },
 "nbformat": 4,
 "nbformat_minor": 2
}
