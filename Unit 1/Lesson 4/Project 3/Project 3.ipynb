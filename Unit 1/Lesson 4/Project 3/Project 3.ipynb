{
 "cells": [
  {
   "cell_type": "markdown",
   "metadata": {},
   "source": [
    "You're testing advertising emails for a bathing suit company and you test one version of the email in February and the other in May.\n",
    "\n",
    "You should target advertising emails near the summer months like in May.  The February campaign will not be as effective as in other months like May through August."
   ]
  },
  {
   "cell_type": "markdown",
   "metadata": {},
   "source": [
    "You open a clinic to treat anxiety and find that the people who visit show a higher rate of anxiety than the general population.\n",
    "\n",
    "People that approach your clinic most likely have anxiety already. The sampling of the population should be done in a more neutral environment"
   ]
  },
  {
   "cell_type": "markdown",
   "metadata": {},
   "source": [
    "You launch a new ad billboard based campaign and see an increase in website visits in the first week.\n",
    "\n",
    "The first week of any ad campaign usually gets the most attention and the newness factor usually dies down dramatically after a month."
   ]
  },
  {
   "cell_type": "markdown",
   "metadata": {},
   "source": [
    "You launch a loyalty program but see no change in visits in the first week.\n",
    "\n",
    "The first week of any ad campaign usually gets the most attention and the newness factor usually dies down dramatically after a month."
   ]
  }
 ],
 "metadata": {
  "kernelspec": {
   "display_name": "Python 3",
   "language": "python",
   "name": "python3"
  },
  "language_info": {
   "codemirror_mode": {
    "name": "ipython",
    "version": 3
   },
   "file_extension": ".py",
   "mimetype": "text/x-python",
   "name": "python",
   "nbconvert_exporter": "python",
   "pygments_lexer": "ipython3",
   "version": "3.7.1"
  }
 },
 "nbformat": 4,
 "nbformat_minor": 2
}
